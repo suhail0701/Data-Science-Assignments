{
 "cells": [
  {
   "cell_type": "code",
   "execution_count": 1,
   "metadata": {},
   "outputs": [
    {
     "name": "stderr",
     "output_type": "stream",
     "text": [
      "Warning message:\n",
      "\"package 'modeest' was built under R version 3.6.3\"\n",
      "Attaching package: 'modeest'\n",
      "\n",
      "The following object is masked from 'package:moments':\n",
      "\n",
      "    skewness\n",
      "\n",
      "Warning message:\n",
      "\"package 'car' was built under R version 3.6.3\"Loading required package: carData\n",
      "Warning message:\n",
      "\"package 'carData' was built under R version 3.6.3\"Warning message:\n",
      "\"package 'readxl' was built under R version 3.6.2\""
     ]
    }
   ],
   "source": [
    "library(moments)\n",
    "library(modeest)\n",
    "library(car)\n",
    "library(nortest)\n",
    "library(readxl)"
   ]
  },
  {
   "cell_type": "code",
   "execution_count": 2,
   "metadata": {},
   "outputs": [],
   "source": [
    "setwd(\"C:\\\\Users\\\\SohailShaikh\\\\OneDrive - tiqets.com\\\\Tiqets\\\\Adhoc\\\\DS\\\\Basic Stats - 2\")"
   ]
  },
  {
   "cell_type": "markdown",
   "metadata": {},
   "source": [
    "### __1 - Descriptive Statistics and Probability__   "
   ]
  },
  {
   "cell_type": "code",
   "execution_count": 4,
   "metadata": {},
   "outputs": [],
   "source": [
    "df = read_excel(\"company.xlsx\")"
   ]
  },
  {
   "cell_type": "code",
   "execution_count": 5,
   "metadata": {},
   "outputs": [
    {
     "data": {
      "text/html": [
       "<table>\n",
       "<thead><tr><th scope=col>Name of company</th><th scope=col>Measure X</th></tr></thead>\n",
       "<tbody>\n",
       "\t<tr><td>Allied Signal   </td><td>0.2423          </td></tr>\n",
       "\t<tr><td>Bankers Trust   </td><td>0.2553          </td></tr>\n",
       "\t<tr><td>General Mills   </td><td>0.2541          </td></tr>\n",
       "\t<tr><td>ITT Industries  </td><td>0.2414          </td></tr>\n",
       "\t<tr><td>J.P.Morgan &amp; Co.</td><td>0.2962              </td></tr>\n",
       "\t<tr><td>Lehman Brothers </td><td>0.2825          </td></tr>\n",
       "</tbody>\n",
       "</table>\n"
      ],
      "text/latex": [
       "\\begin{tabular}{r|ll}\n",
       " Name of company & Measure X\\\\\n",
       "\\hline\n",
       "\t Allied Signal    & 0.2423          \\\\\n",
       "\t Bankers Trust    & 0.2553          \\\\\n",
       "\t General Mills    & 0.2541          \\\\\n",
       "\t ITT Industries   & 0.2414          \\\\\n",
       "\t J.P.Morgan \\& Co. & 0.2962            \\\\\n",
       "\t Lehman Brothers  & 0.2825          \\\\\n",
       "\\end{tabular}\n"
      ],
      "text/markdown": [
       "\n",
       "| Name of company | Measure X |\n",
       "|---|---|\n",
       "| Allied Signal    | 0.2423           |\n",
       "| Bankers Trust    | 0.2553           |\n",
       "| General Mills    | 0.2541           |\n",
       "| ITT Industries   | 0.2414           |\n",
       "| J.P.Morgan & Co. | 0.2962           |\n",
       "| Lehman Brothers  | 0.2825           |\n",
       "\n"
      ],
      "text/plain": [
       "  Name of company  Measure X\n",
       "1 Allied Signal    0.2423   \n",
       "2 Bankers Trust    0.2553   \n",
       "3 General Mills    0.2541   \n",
       "4 ITT Industries   0.2414   \n",
       "5 J.P.Morgan & Co. 0.2962   \n",
       "6 Lehman Brothers  0.2825   "
      ]
     },
     "metadata": {},
     "output_type": "display_data"
    }
   ],
   "source": [
    "head(df)"
   ]
  },
  {
   "cell_type": "code",
   "execution_count": 6,
   "metadata": {},
   "outputs": [],
   "source": [
    "colnames(df) = c(\"company name\",\"measure\")"
   ]
  },
  {
   "cell_type": "code",
   "execution_count": 7,
   "metadata": {},
   "outputs": [
    {
     "data": {
      "text/html": [
       "0.9136"
      ],
      "text/latex": [
       "0.9136"
      ],
      "text/markdown": [
       "0.9136"
      ],
      "text/plain": [
       "[1] 0.9136"
      ]
     },
     "metadata": {},
     "output_type": "display_data"
    },
    {
     "data": {
      "image/png": "[encoded data removed]",
      "text/plain": [
       "plot without title"
      ]
     },
     "metadata": {},
     "output_type": "display_data"
    }
   ],
   "source": [
    "boxplot(df$measure)$out"
   ]
  },
  {
   "cell_type": "code",
   "execution_count": 8,
   "metadata": {},
   "outputs": [
    {
     "data": {
      "text/html": [
       "0.332713333333333"
      ],
      "text/latex": [
       "0.332713333333333"
      ],
      "text/markdown": [
       "0.332713333333333"
      ],
      "text/plain": [
       "[1] 0.3327133"
      ]
     },
     "metadata": {},
     "output_type": "display_data"
    },
    {
     "data": {
      "text/html": [
       "0.16945400921222"
      ],
      "text/latex": [
       "0.16945400921222"
      ],
      "text/markdown": [
       "0.16945400921222"
      ],
      "text/plain": [
       "[1] 0.169454"
      ]
     },
     "metadata": {},
     "output_type": "display_data"
    },
    {
     "data": {
      "text/html": [
       "0.0287146612380952"
      ],
      "text/latex": [
       "0.0287146612380952"
      ],
      "text/markdown": [
       "0.0287146612380952"
      ],
      "text/plain": [
       "[1] 0.02871466"
      ]
     },
     "metadata": {},
     "output_type": "display_data"
    }
   ],
   "source": [
    "mean(df$measure)\n",
    "sd(df$measure)\n",
    "var(df$measure)"
   ]
  },
  {
   "cell_type": "code",
   "execution_count": 10,
   "metadata": {},
   "outputs": [],
   "source": [
    "df2 = matrix(c(-2000,0.1,-1000,0.1,0,0.2,1000,0.2,2000,0.3,3000,0.1),ncol=2,byrow=TRUE)"
   ]
  },
  {
   "cell_type": "code",
   "execution_count": 12,
   "metadata": {},
   "outputs": [],
   "source": [
    "colnames(df2) = c(\"x\",\"P(x)\")"
   ]
  },
  {
   "cell_type": "code",
   "execution_count": 13,
   "metadata": {},
   "outputs": [
    {
     "data": {
      "text/html": [
       "<table>\n",
       "<thead><tr><th scope=col>x</th><th scope=col>P(x)</th></tr></thead>\n",
       "<tbody>\n",
       "\t<tr><td>-2000</td><td>0.1  </td></tr>\n",
       "\t<tr><td>-1000</td><td>0.1  </td></tr>\n",
       "\t<tr><td>    0</td><td>0.2  </td></tr>\n",
       "\t<tr><td> 1000</td><td>0.2  </td></tr>\n",
       "\t<tr><td> 2000</td><td>0.3  </td></tr>\n",
       "\t<tr><td> 3000</td><td>0.1  </td></tr>\n",
       "</tbody>\n",
       "</table>\n"
      ],
      "text/latex": [
       "\\begin{tabular}{ll}\n",
       " x & P(x)\\\\\n",
       "\\hline\n",
       "\t -2000 & 0.1  \\\\\n",
       "\t -1000 & 0.1  \\\\\n",
       "\t     0 & 0.2  \\\\\n",
       "\t  1000 & 0.2  \\\\\n",
       "\t  2000 & 0.3  \\\\\n",
       "\t  3000 & 0.1  \\\\\n",
       "\\end{tabular}\n"
      ],
      "text/markdown": [
       "\n",
       "| x | P(x) |\n",
       "|---|---|\n",
       "| -2000 | 0.1   |\n",
       "| -1000 | 0.1   |\n",
       "|     0 | 0.2   |\n",
       "|  1000 | 0.2   |\n",
       "|  2000 | 0.3   |\n",
       "|  3000 | 0.1   |\n",
       "\n"
      ],
      "text/plain": [
       "     x     P(x)\n",
       "[1,] -2000 0.1 \n",
       "[2,] -1000 0.1 \n",
       "[3,]     0 0.2 \n",
       "[4,]  1000 0.2 \n",
       "[5,]  2000 0.3 \n",
       "[6,]  3000 0.1 "
      ]
     },
     "metadata": {},
     "output_type": "display_data"
    }
   ],
   "source": [
    "head(df2)"
   ]
  },
  {
   "cell_type": "code",
   "execution_count": 19,
   "metadata": {},
   "outputs": [
    {
     "data": {
      "text/html": [
       "3500000"
      ],
      "text/latex": [
       "3500000"
      ],
      "text/markdown": [
       "3500000"
      ],
      "text/plain": [
       "[1] 3500000"
      ]
     },
     "metadata": {},
     "output_type": "display_data"
    }
   ],
   "source": [
    "var(df2[,1])"
   ]
  },
  {
   "cell_type": "code",
   "execution_count": 18,
   "metadata": {},
   "outputs": [
    {
     "data": {
      "text/html": [
       "1870.82869338697"
      ],
      "text/latex": [
       "1870.82869338697"
      ],
      "text/markdown": [
       "1870.82869338697"
      ],
      "text/plain": [
       "[1] 1870.829"
      ]
     },
     "metadata": {},
     "output_type": "display_data"
    }
   ],
   "source": [
    "sd(df2[,1])"
   ]
  },
  {
   "cell_type": "markdown",
   "metadata": {},
   "source": [
    "### __2 - Normal distribution, Functions of Random Variables__   "
   ]
  },
  {
   "cell_type": "code",
   "execution_count": 20,
   "metadata": {},
   "outputs": [
    {
     "data": {
      "text/html": [
       "0.265985529048701"
      ],
      "text/latex": [
       "0.265985529048701"
      ],
      "text/markdown": [
       "0.265985529048701"
      ],
      "text/plain": [
       "[1] 0.2659855"
      ]
     },
     "metadata": {},
     "output_type": "display_data"
    }
   ],
   "source": [
    "1-pnorm(50,45,8)"
   ]
  },
  {
   "cell_type": "code",
   "execution_count": 2,
   "metadata": {},
   "outputs": [
    {
     "data": {
      "text/html": [
       "151.516586070978"
      ],
      "text/latex": [
       "151.516586070978"
      ],
      "text/markdown": [
       "151.516586070978"
      ],
      "text/plain": [
       "[1] 151.5166"
      ]
     },
     "metadata": {},
     "output_type": "display_data"
    }
   ],
   "source": [
    "qnorm(0.995,100,20)"
   ]
  },
  {
   "cell_type": "code",
   "execution_count": 3,
   "metadata": {},
   "outputs": [
    {
     "data": {
      "text/html": [
       "48.483413929022"
      ],
      "text/latex": [
       "48.483413929022"
      ],
      "text/markdown": [
       "48.483413929022"
      ],
      "text/plain": [
       "[1] 48.48341"
      ]
     },
     "metadata": {},
     "output_type": "display_data"
    }
   ],
   "source": [
    "qnorm(0.005,100,20)"
   ]
  },
  {
   "cell_type": "code",
   "execution_count": 4,
   "metadata": {},
   "outputs": [
    {
     "data": {
      "text/html": [
       "219.12010804638"
      ],
      "text/latex": [
       "219.12010804638"
      ],
      "text/markdown": [
       "219.12010804638"
      ],
      "text/plain": [
       "[1] 219.1201"
      ]
     },
     "metadata": {},
     "output_type": "display_data"
    }
   ],
   "source": [
    "qnorm(0.025,45*5,3)"
   ]
  },
  {
   "cell_type": "code",
   "execution_count": 5,
   "metadata": {},
   "outputs": [
    {
     "data": {
      "text/html": [
       "230.87989195362"
      ],
      "text/latex": [
       "230.87989195362"
      ],
      "text/markdown": [
       "230.87989195362"
      ],
      "text/plain": [
       "[1] 230.8799"
      ]
     },
     "metadata": {},
     "output_type": "display_data"
    }
   ],
   "source": [
    "qnorm(0.975,45*5,3)"
   ]
  },
  {
   "cell_type": "code",
   "execution_count": 6,
   "metadata": {},
   "outputs": [
    {
     "data": {
      "text/html": [
       "309.12010804638"
      ],
      "text/latex": [
       "309.12010804638"
      ],
      "text/markdown": [
       "309.12010804638"
      ],
      "text/plain": [
       "[1] 309.1201"
      ]
     },
     "metadata": {},
     "output_type": "display_data"
    }
   ],
   "source": [
    "qnorm(0.025,45*7,3)"
   ]
  },
  {
   "cell_type": "code",
   "execution_count": 7,
   "metadata": {},
   "outputs": [
    {
     "data": {
      "text/html": [
       "320.87989195362"
      ],
      "text/latex": [
       "320.87989195362"
      ],
      "text/markdown": [
       "320.87989195362"
      ],
      "text/plain": [
       "[1] 320.8799"
      ]
     },
     "metadata": {},
     "output_type": "display_data"
    }
   ],
   "source": [
    "qnorm(0.975,45*7,3)"
   ]
  },
  {
   "cell_type": "code",
   "execution_count": 8,
   "metadata": {},
   "outputs": [
    {
     "data": {
      "text/html": [
       "310.065439119146"
      ],
      "text/latex": [
       "310.065439119146"
      ],
      "text/markdown": [
       "310.065439119146"
      ],
      "text/plain": [
       "[1] 310.0654"
      ]
     },
     "metadata": {},
     "output_type": "display_data"
    }
   ],
   "source": [
    "qnorm(0.05,45*7,3)"
   ]
  },
  {
   "cell_type": "code",
   "execution_count": 9,
   "metadata": {},
   "outputs": [
    {
     "data": {
      "text/html": [
       "220.065439119146"
      ],
      "text/latex": [
       "220.065439119146"
      ],
      "text/markdown": [
       "220.065439119146"
      ],
      "text/plain": [
       "[1] 220.0654"
      ]
     },
     "metadata": {},
     "output_type": "display_data"
    }
   ],
   "source": [
    "qnorm(0.05,45*5,3)"
   ]
  },
  {
   "cell_type": "markdown",
   "metadata": {},
   "source": [
    "### __4 - Sampling Distributions and Central Limit Theorem__   "
   ]
  },
  {
   "cell_type": "code",
   "execution_count": 11,
   "metadata": {},
   "outputs": [
    {
     "data": {
      "text/html": [
       "0.894350226333145"
      ],
      "text/latex": [
       "0.894350226333145"
      ],
      "text/markdown": [
       "0.894350226333145"
      ],
      "text/plain": [
       "[1] 0.8943502"
      ]
     },
     "metadata": {},
     "output_type": "display_data"
    }
   ],
   "source": [
    "pnorm(55,50,4)"
   ]
  },
  {
   "cell_type": "code",
   "execution_count": 12,
   "metadata": {},
   "outputs": [
    {
     "data": {
      "text/html": [
       "0.105649773666855"
      ],
      "text/latex": [
       "0.105649773666855"
      ],
      "text/markdown": [
       "0.105649773666855"
      ],
      "text/plain": [
       "[1] 0.1056498"
      ]
     },
     "metadata": {},
     "output_type": "display_data"
    }
   ],
   "source": [
    "pnorm(45,50,4)"
   ]
  },
  {
   "cell_type": "code",
   "execution_count": 13,
   "metadata": {},
   "outputs": [
    {
     "data": {
      "text/html": [
       "1.95996398454005"
      ],
      "text/latex": [
       "1.95996398454005"
      ],
      "text/markdown": [
       "1.95996398454005"
      ],
      "text/plain": [
       "[1] 1.959964"
      ]
     },
     "metadata": {},
     "output_type": "display_data"
    }
   ],
   "source": [
    "qnorm(0.975)"
   ]
  },
  {
   "cell_type": "code",
   "execution_count": 14,
   "metadata": {},
   "outputs": [
    {
     "data": {
      "text/html": [
       "1.95996398454005"
      ],
      "text/latex": [
       "1.95996398454005"
      ],
      "text/markdown": [
       "1.95996398454005"
      ],
      "text/plain": [
       "[1] 1.959964"
      ]
     },
     "metadata": {},
     "output_type": "display_data"
    }
   ],
   "source": [
    "qnorm(0.975)"
   ]
  },
  {
   "cell_type": "code",
   "execution_count": null,
   "metadata": {},
   "outputs": [],
   "source": []
  }
 ],
 "metadata": {
  "kernelspec": {
   "display_name": "R",
   "language": "R",
   "name": "ir"
  },
  "language_info": {
   "codemirror_mode": "r",
   "file_extension": ".r",
   "mimetype": "text/x-r-source",
   "name": "R",
   "pygments_lexer": "r",
   "version": "3.6.1"
  }
 },
 "nbformat": 4,
 "nbformat_minor": 4
}
